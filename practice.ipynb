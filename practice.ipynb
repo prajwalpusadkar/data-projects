{
 "cells": [
  {
   "cell_type": "code",
   "execution_count": 1,
   "id": "fd718de3-b357-4bdf-9e91-4c0f81811919",
   "metadata": {},
   "outputs": [
    {
     "name": "stdout",
     "output_type": "stream",
     "text": [
      "hello world\n"
     ]
    }
   ],
   "source": [
    "print(\"hello world\")\n"
   ]
  },
  {
   "cell_type": "code",
   "execution_count": 10,
   "id": "fde4e11a-c60a-4221-ad3e-6a5a95c247b0",
   "metadata": {},
   "outputs": [
    {
     "name": "stdout",
     "output_type": "stream",
     "text": [
      "['mango', 'apple', 'orange', 'papapya', 1, 2, 3]\n",
      "orange\n",
      "['mango', 'apple', 'prajwal', 'papapya', 1, 2, 3]\n",
      "{'r', 'p'}\n"
     ]
    },
    {
     "data": {
      "text/plain": [
       "{'orange': 2, 'lemon': 3, 'papaya': 4}"
      ]
     },
     "execution_count": 10,
     "metadata": {},
     "output_type": "execute_result"
    }
   ],
   "source": [
    "list1=['mango','apple','orange','papapya',1,2,3]\n",
    "print(list1)\n",
    "print(list1[2])\n",
    "\n",
    "list1[2]='prajwal'\n",
    "print(list1)\n",
    "\n",
    "set={'p','r','p'}\n",
    "print(set)\n",
    "\n",
    "\n",
    "products=['orange','lemon',\n",
    "         'papaya']\n",
    "prices=[2,3,4]\n",
    "cart=dict(zip(products,prices))\n",
    "cart"
   ]
  },
  {
   "cell_type": "code",
   "execution_count": null,
   "id": "c3e966fc-f0e3-4048-a576-b3bb2aec2084",
   "metadata": {},
   "outputs": [],
   "source": []
  },
  {
   "cell_type": "code",
   "execution_count": 21,
   "id": "d68f3a54-8b09-4451-a77d-21c01bcdd9ed",
   "metadata": {},
   "outputs": [
    {
     "name": "stdout",
     "output_type": "stream",
     "text": [
      "correct\n"
     ]
    },
    {
     "name": "stdin",
     "output_type": "stream",
     "text": [
      "whats the ans? no\n"
     ]
    },
    {
     "name": "stdout",
     "output_type": "stream",
     "text": [
      "incorrect\n"
     ]
    }
   ],
   "source": [
    "newin='yes'\n",
    "\n",
    "while newin=='yes':\n",
    "    print('correct')\n",
    "    newin=input('whats the ans?')\n",
    "    \n",
    "print('incorrect')\n",
    "        \n",
    "    "
   ]
  },
  {
   "cell_type": "code",
   "execution_count": 37,
   "id": "c084d103-1fcb-4be9-9d95-9dc14bb31bf2",
   "metadata": {},
   "outputs": [
    {
     "name": "stdin",
     "output_type": "stream",
     "text": [
      "enter items thrge\n",
      "enter items rfgef\n",
      "enter items end\n"
     ]
    },
    {
     "name": "stdout",
     "output_type": "stream",
     "text": [
      "['thrge', 'rfgef']\n"
     ]
    }
   ],
   "source": [
    "list1=[]\n",
    "ans=''\n",
    "while ans!='end':\n",
    "    ans=input('enter items')\n",
    "    if ans!='end':\n",
    "        list1.append(ans)\n",
    "print(list1)"
   ]
  },
  {
   "cell_type": "code",
   "execution_count": 53,
   "id": "808648b0-b98d-49b1-b720-77969d71f7e2",
   "metadata": {},
   "outputs": [
    {
     "name": "stdout",
     "output_type": "stream",
     "text": [
      "0 elemt is 23\n",
      "1 elemt is 54\n",
      "2 elemt is 65\n",
      "out\n",
      "23\n",
      "54\n",
      "65\n",
      "out\n"
     ]
    }
   ],
   "source": [
    "list=[23,54,65]\n",
    "i=0\n",
    "while i<len(list):\n",
    "    print(f'{i} elemt is {list[i]}')\n",
    "    i=i+1\n",
    "    \n",
    "print('out')\n",
    "\n",
    "for i in list:\n",
    "    print(i)\n",
    "print('out')"
   ]
  },
  {
   "cell_type": "code",
   "execution_count": 54,
   "id": "b77e2077-1834-41fd-bfee-292f6734bd00",
   "metadata": {},
   "outputs": [
    {
     "name": "stdin",
     "output_type": "stream",
     "text": [
      "enter items new\n",
      "enter items one\n",
      "enter items end\n"
     ]
    },
    {
     "name": "stdout",
     "output_type": "stream",
     "text": [
      "['new', 'one']\n"
     ]
    }
   ],
   "source": [
    "list1=[]\n",
    "while True:\n",
    "    ans=input('enter items')\n",
    "    if ans=='end':\n",
    "        break\n",
    "    list1.append(ans)\n",
    "print(list1)"
   ]
  },
  {
   "cell_type": "code",
   "execution_count": 55,
   "id": "31f2280b-e005-4602-802a-fe12b5762aad",
   "metadata": {},
   "outputs": [
    {
     "name": "stdout",
     "output_type": "stream",
     "text": [
      "hello\n"
     ]
    }
   ],
   "source": [
    "print(\"hello\")"
   ]
  },
  {
   "cell_type": "code",
   "execution_count": 1,
   "id": "7b7989e2-058b-4494-9e11-644e2e4c1804",
   "metadata": {},
   "outputs": [
    {
     "name": "stdout",
     "output_type": "stream",
     "text": [
      "hello\n"
     ]
    }
   ],
   "source": [
    "print(\"hello\")"
   ]
  },
  {
   "cell_type": "code",
   "execution_count": 1,
   "id": "3ecc6320-2497-4034-8ca3-d2818b3e94eb",
   "metadata": {},
   "outputs": [],
   "source": [
    "import keyword"
   ]
  },
  {
   "cell_type": "code",
   "execution_count": 2,
   "id": "9e994e73-4fb3-4718-9996-31bfeec165f6",
   "metadata": {},
   "outputs": [
    {
     "name": "stdout",
     "output_type": "stream",
     "text": [
      "['False', 'None', 'True', 'and', 'as', 'assert', 'async', 'await', 'break', 'class', 'continue', 'def', 'del', 'elif', 'else', 'except', 'finally', 'for', 'from', 'global', 'if', 'import', 'in', 'is', 'lambda', 'nonlocal', 'not', 'or', 'pass', 'raise', 'return', 'try', 'while', 'with', 'yield']\n"
     ]
    }
   ],
   "source": [
    "print(keyword.kwlist)"
   ]
  },
  {
   "cell_type": "code",
   "execution_count": 3,
   "id": "801f4cba-4523-46a1-a3e2-8fc478f4c599",
   "metadata": {},
   "outputs": [],
   "source": [
    "d={\n",
    "    \"name\":\"john\",\n",
    "    \"age\":30\n",
    "}"
   ]
  },
  {
   "cell_type": "code",
   "execution_count": 4,
   "id": "7660b17a-61af-4784-bbaf-4553a63b5f52",
   "metadata": {},
   "outputs": [
    {
     "data": {
      "text/plain": [
       "30"
      ]
     },
     "execution_count": 4,
     "metadata": {},
     "output_type": "execute_result"
    }
   ],
   "source": [
    "d[\"age\"]"
   ]
  },
  {
   "cell_type": "code",
   "execution_count": 5,
   "id": "f70c9ea8-0e45-4c6e-89fe-e13a3c69d6e6",
   "metadata": {},
   "outputs": [
    {
     "name": "stdout",
     "output_type": "stream",
     "text": [
      "2000974037760\n"
     ]
    }
   ],
   "source": [
    "print(id(d))"
   ]
  },
  {
   "cell_type": "code",
   "execution_count": 23,
   "id": "eebbf07a-67b4-4326-9513-5f490a16c51d",
   "metadata": {},
   "outputs": [
    {
     "data": {
      "text/plain": [
       "'rakdasuplawjarp'"
      ]
     },
     "execution_count": 23,
     "metadata": {},
     "output_type": "execute_result"
    }
   ],
   "source": [
    "a=\"prajwalpusadkar\"\n",
    "a[-1::-1]"
   ]
  },
  {
   "cell_type": "code",
   "execution_count": 70,
   "id": "897831c1-dc2d-4c5a-ab32-33f2ebebacd9",
   "metadata": {},
   "outputs": [
    {
     "name": "stdout",
     "output_type": "stream",
     "text": [
      "True\n",
      "-1\n",
      "hellohowareyou\n"
     ]
    }
   ],
   "source": [
    "new=\"hihowareyou\"\n",
    "x=new.isalpha()\n",
    "print(x)\n",
    "\n",
    "\n",
    "new1=\"we\"\n",
    "index=new.find(new1)\n",
    "print(index)\n",
    "# if index<0:\n",
    "#     print(-1)\n",
    "# else:\n",
    "#     print(index)\n",
    "    \n",
    "new2=new.replace(\"hi\",\"hello\")\n",
    "print(new2)\n",
    "\n",
    "\n",
    " "
   ]
  },
  {
   "cell_type": "code",
   "execution_count": 83,
   "id": "c64d661d-01a0-44a2-a8d8-b48153249403",
   "metadata": {},
   "outputs": [
    {
     "name": "stdout",
     "output_type": "stream",
     "text": [
      "prajwal is  new  fun\n",
      "prajwal new is new fun\n",
      "['prajwal', 'is', 'fun']\n"
     ]
    },
    {
     "data": {
      "text/plain": [
       "list"
      ]
     },
     "execution_count": 83,
     "metadata": {},
     "output_type": "execute_result"
    }
   ],
   "source": [
    "sen=\"prajwal is fun\"\n",
    "x=sen.split()\n",
    "var=\" new \"\n",
    "y=var.join(x)\n",
    "newstring=f\"prajwal is {var} fun\"\n",
    "print(newstring)\n",
    "print(y)\n",
    "print(x)\n",
    "type(x)\n",
    "#important in DA\n",
    "#string methods"
   ]
  },
  {
   "cell_type": "code",
   "execution_count": 84,
   "id": "9ca8916c-3432-4231-87ab-3676ec505425",
   "metadata": {},
   "outputs": [],
   "source": [
    "#+=,-=,*="
   ]
  },
  {
   "cell_type": "code",
   "execution_count": 85,
   "id": "e422b3b3-8e0a-45ae-a990-fd794b1f0f9a",
   "metadata": {},
   "outputs": [],
   "source": [
    "import pandas as pd\n"
   ]
  },
  {
   "cell_type": "code",
   "execution_count": 91,
   "id": "e98db181-8cc3-4dfe-b0df-a7135f9ba0c5",
   "metadata": {},
   "outputs": [],
   "source": [
    "df=pd.read_csv(r\"C:\\DS & AI\\climate_change_indicators.csv\")"
   ]
  },
  {
   "cell_type": "code",
   "execution_count": 94,
   "id": "a596734c-2368-4c3c-80fe-f7c48af4da94",
   "metadata": {},
   "outputs": [
    {
     "data": {
      "text/html": [
       "<div>\n",
       "<style scoped>\n",
       "    .dataframe tbody tr th:only-of-type {\n",
       "        vertical-align: middle;\n",
       "    }\n",
       "\n",
       "    .dataframe tbody tr th {\n",
       "        vertical-align: top;\n",
       "    }\n",
       "\n",
       "    .dataframe thead th {\n",
       "        text-align: right;\n",
       "    }\n",
       "</style>\n",
       "<table border=\"1\" class=\"dataframe\">\n",
       "  <thead>\n",
       "    <tr style=\"text-align: right;\">\n",
       "      <th></th>\n",
       "      <th>ObjectId</th>\n",
       "      <th>Country</th>\n",
       "      <th>ISO2</th>\n",
       "      <th>ISO3</th>\n",
       "      <th>Indicator</th>\n",
       "      <th>Unit</th>\n",
       "      <th>Source</th>\n",
       "      <th>CTS_Code</th>\n",
       "      <th>CTS_Name</th>\n",
       "      <th>CTS_Full_Descriptor</th>\n",
       "      <th>...</th>\n",
       "      <th>F2013</th>\n",
       "      <th>F2014</th>\n",
       "      <th>F2015</th>\n",
       "      <th>F2016</th>\n",
       "      <th>F2017</th>\n",
       "      <th>F2018</th>\n",
       "      <th>F2019</th>\n",
       "      <th>F2020</th>\n",
       "      <th>F2021</th>\n",
       "      <th>F2022</th>\n",
       "    </tr>\n",
       "  </thead>\n",
       "  <tbody>\n",
       "    <tr>\n",
       "      <th>0</th>\n",
       "      <td>1</td>\n",
       "      <td>Afghanistan, Islamic Rep. of</td>\n",
       "      <td>AF</td>\n",
       "      <td>AFG</td>\n",
       "      <td>Temperature change with respect to a baseline ...</td>\n",
       "      <td>Degree Celsius</td>\n",
       "      <td>Food and Agriculture Organization of the Unite...</td>\n",
       "      <td>ECCS</td>\n",
       "      <td>Surface Temperature Change</td>\n",
       "      <td>Environment, Climate Change, Climate Indicator...</td>\n",
       "      <td>...</td>\n",
       "      <td>1.281</td>\n",
       "      <td>0.456</td>\n",
       "      <td>1.093</td>\n",
       "      <td>1.555</td>\n",
       "      <td>1.540</td>\n",
       "      <td>1.544</td>\n",
       "      <td>0.910</td>\n",
       "      <td>0.498</td>\n",
       "      <td>1.327</td>\n",
       "      <td>2.012</td>\n",
       "    </tr>\n",
       "    <tr>\n",
       "      <th>1</th>\n",
       "      <td>2</td>\n",
       "      <td>Albania</td>\n",
       "      <td>AL</td>\n",
       "      <td>ALB</td>\n",
       "      <td>Temperature change with respect to a baseline ...</td>\n",
       "      <td>Degree Celsius</td>\n",
       "      <td>Food and Agriculture Organization of the Unite...</td>\n",
       "      <td>ECCS</td>\n",
       "      <td>Surface Temperature Change</td>\n",
       "      <td>Environment, Climate Change, Climate Indicator...</td>\n",
       "      <td>...</td>\n",
       "      <td>1.333</td>\n",
       "      <td>1.198</td>\n",
       "      <td>1.569</td>\n",
       "      <td>1.464</td>\n",
       "      <td>1.121</td>\n",
       "      <td>2.028</td>\n",
       "      <td>1.675</td>\n",
       "      <td>1.498</td>\n",
       "      <td>1.536</td>\n",
       "      <td>1.518</td>\n",
       "    </tr>\n",
       "    <tr>\n",
       "      <th>2</th>\n",
       "      <td>3</td>\n",
       "      <td>Algeria</td>\n",
       "      <td>DZ</td>\n",
       "      <td>DZA</td>\n",
       "      <td>Temperature change with respect to a baseline ...</td>\n",
       "      <td>Degree Celsius</td>\n",
       "      <td>Food and Agriculture Organization of the Unite...</td>\n",
       "      <td>ECCS</td>\n",
       "      <td>Surface Temperature Change</td>\n",
       "      <td>Environment, Climate Change, Climate Indicator...</td>\n",
       "      <td>...</td>\n",
       "      <td>1.192</td>\n",
       "      <td>1.690</td>\n",
       "      <td>1.121</td>\n",
       "      <td>1.757</td>\n",
       "      <td>1.512</td>\n",
       "      <td>1.210</td>\n",
       "      <td>1.115</td>\n",
       "      <td>1.926</td>\n",
       "      <td>2.330</td>\n",
       "      <td>1.688</td>\n",
       "    </tr>\n",
       "    <tr>\n",
       "      <th>3</th>\n",
       "      <td>4</td>\n",
       "      <td>American Samoa</td>\n",
       "      <td>AS</td>\n",
       "      <td>ASM</td>\n",
       "      <td>Temperature change with respect to a baseline ...</td>\n",
       "      <td>Degree Celsius</td>\n",
       "      <td>Food and Agriculture Organization of the Unite...</td>\n",
       "      <td>ECCS</td>\n",
       "      <td>Surface Temperature Change</td>\n",
       "      <td>Environment, Climate Change, Climate Indicator...</td>\n",
       "      <td>...</td>\n",
       "      <td>1.257</td>\n",
       "      <td>1.170</td>\n",
       "      <td>1.009</td>\n",
       "      <td>1.539</td>\n",
       "      <td>1.435</td>\n",
       "      <td>1.189</td>\n",
       "      <td>1.539</td>\n",
       "      <td>1.430</td>\n",
       "      <td>1.268</td>\n",
       "      <td>1.256</td>\n",
       "    </tr>\n",
       "    <tr>\n",
       "      <th>4</th>\n",
       "      <td>5</td>\n",
       "      <td>Andorra, Principality of</td>\n",
       "      <td>AD</td>\n",
       "      <td>AND</td>\n",
       "      <td>Temperature change with respect to a baseline ...</td>\n",
       "      <td>Degree Celsius</td>\n",
       "      <td>Food and Agriculture Organization of the Unite...</td>\n",
       "      <td>ECCS</td>\n",
       "      <td>Surface Temperature Change</td>\n",
       "      <td>Environment, Climate Change, Climate Indicator...</td>\n",
       "      <td>...</td>\n",
       "      <td>0.831</td>\n",
       "      <td>1.946</td>\n",
       "      <td>1.690</td>\n",
       "      <td>1.990</td>\n",
       "      <td>1.925</td>\n",
       "      <td>1.919</td>\n",
       "      <td>1.964</td>\n",
       "      <td>2.562</td>\n",
       "      <td>1.533</td>\n",
       "      <td>3.243</td>\n",
       "    </tr>\n",
       "  </tbody>\n",
       "</table>\n",
       "<p>5 rows × 72 columns</p>\n",
       "</div>"
      ],
      "text/plain": [
       "   ObjectId                       Country ISO2 ISO3  \\\n",
       "0         1  Afghanistan, Islamic Rep. of   AF  AFG   \n",
       "1         2                       Albania   AL  ALB   \n",
       "2         3                       Algeria   DZ  DZA   \n",
       "3         4                American Samoa   AS  ASM   \n",
       "4         5      Andorra, Principality of   AD  AND   \n",
       "\n",
       "                                           Indicator            Unit  \\\n",
       "0  Temperature change with respect to a baseline ...  Degree Celsius   \n",
       "1  Temperature change with respect to a baseline ...  Degree Celsius   \n",
       "2  Temperature change with respect to a baseline ...  Degree Celsius   \n",
       "3  Temperature change with respect to a baseline ...  Degree Celsius   \n",
       "4  Temperature change with respect to a baseline ...  Degree Celsius   \n",
       "\n",
       "                                              Source CTS_Code  \\\n",
       "0  Food and Agriculture Organization of the Unite...     ECCS   \n",
       "1  Food and Agriculture Organization of the Unite...     ECCS   \n",
       "2  Food and Agriculture Organization of the Unite...     ECCS   \n",
       "3  Food and Agriculture Organization of the Unite...     ECCS   \n",
       "4  Food and Agriculture Organization of the Unite...     ECCS   \n",
       "\n",
       "                     CTS_Name  \\\n",
       "0  Surface Temperature Change   \n",
       "1  Surface Temperature Change   \n",
       "2  Surface Temperature Change   \n",
       "3  Surface Temperature Change   \n",
       "4  Surface Temperature Change   \n",
       "\n",
       "                                 CTS_Full_Descriptor  ...  F2013  F2014  \\\n",
       "0  Environment, Climate Change, Climate Indicator...  ...  1.281  0.456   \n",
       "1  Environment, Climate Change, Climate Indicator...  ...  1.333  1.198   \n",
       "2  Environment, Climate Change, Climate Indicator...  ...  1.192  1.690   \n",
       "3  Environment, Climate Change, Climate Indicator...  ...  1.257  1.170   \n",
       "4  Environment, Climate Change, Climate Indicator...  ...  0.831  1.946   \n",
       "\n",
       "   F2015  F2016  F2017  F2018  F2019  F2020  F2021  F2022  \n",
       "0  1.093  1.555  1.540  1.544  0.910  0.498  1.327  2.012  \n",
       "1  1.569  1.464  1.121  2.028  1.675  1.498  1.536  1.518  \n",
       "2  1.121  1.757  1.512  1.210  1.115  1.926  2.330  1.688  \n",
       "3  1.009  1.539  1.435  1.189  1.539  1.430  1.268  1.256  \n",
       "4  1.690  1.990  1.925  1.919  1.964  2.562  1.533  3.243  \n",
       "\n",
       "[5 rows x 72 columns]"
      ]
     },
     "execution_count": 94,
     "metadata": {},
     "output_type": "execute_result"
    }
   ],
   "source": [
    "df.head(5)\n"
   ]
  },
  {
   "cell_type": "code",
   "execution_count": 97,
   "id": "7412b214-ad71-46e6-afc4-3d435e571e03",
   "metadata": {},
   "outputs": [
    {
     "data": {
      "text/plain": [
       "0      Afghanistan, Islamic Rep. of\n",
       "1                           Albania\n",
       "2                           Algeria\n",
       "3                    American Samoa\n",
       "4          Andorra, Principality of\n",
       "                   ...             \n",
       "220                  Western Sahara\n",
       "221                           World\n",
       "222                  Yemen, Rep. of\n",
       "223                          Zambia\n",
       "224                        Zimbabwe\n",
       "Name: Country, Length: 225, dtype: object"
      ]
     },
     "execution_count": 97,
     "metadata": {},
     "output_type": "execute_result"
    }
   ],
   "source": [
    "df.Country"
   ]
  },
  {
   "cell_type": "code",
   "execution_count": 98,
   "id": "3b6aa203-43b7-4e14-9475-aed3fc05ac81",
   "metadata": {},
   "outputs": [],
   "source": [
    "new=df.Country"
   ]
  },
  {
   "cell_type": "code",
   "execution_count": 99,
   "id": "91d9faca-6b12-4263-8dc6-c8a1574f9267",
   "metadata": {},
   "outputs": [
    {
     "data": {
      "text/plain": [
       "0    Afghanistan, Islamic Rep. of\n",
       "1                         Albania\n",
       "2                         Algeria\n",
       "3                  American Samoa\n",
       "4        Andorra, Principality of\n",
       "Name: Country, dtype: object"
      ]
     },
     "execution_count": 99,
     "metadata": {},
     "output_type": "execute_result"
    }
   ],
   "source": [
    "new.head()"
   ]
  },
  {
   "cell_type": "code",
   "execution_count": 109,
   "id": "2d0f7b2f-7e8c-4d07-a059-31ee60c7eeb0",
   "metadata": {},
   "outputs": [
    {
     "name": "stdin",
     "output_type": "stream",
     "text": [
      " 2\n"
     ]
    },
    {
     "name": "stdout",
     "output_type": "stream",
     "text": [
      "positive\n"
     ]
    }
   ],
   "source": [
    "x=int(input())\n",
    "if x>0:\n",
    "    print(\"positive\")\n",
    "else:\n",
    "    print(\"negative\")"
   ]
  },
  {
   "cell_type": "code",
   "execution_count": 105,
   "id": "df3c9ebf-ab6e-4ceb-8288-4a8d63436293",
   "metadata": {},
   "outputs": [
    {
     "name": "stdin",
     "output_type": "stream",
     "text": [
      " 18\n"
     ]
    },
    {
     "name": "stdout",
     "output_type": "stream",
     "text": [
      "can vote\n"
     ]
    }
   ],
   "source": [
    "x=int(input())\n",
    "if x>=18:\n",
    "    print(\"can vote\")\n",
    "else:\n",
    "    print(\"cant vote\")"
   ]
  },
  {
   "cell_type": "code",
   "execution_count": 106,
   "id": "6806e1a1-f01f-4c36-83b3-dbe2ad2b0feb",
   "metadata": {},
   "outputs": [
    {
     "name": "stdin",
     "output_type": "stream",
     "text": [
      " 20\n"
     ]
    },
    {
     "name": "stdout",
     "output_type": "stream",
     "text": [
      "fail\n"
     ]
    }
   ],
   "source": [
    "x=int(input())\n",
    "if x>90:\n",
    "    print(\"A\")\n",
    "elif x>70 and x<=90:\n",
    "    print(\"B\")\n",
    "elif x>30 and x<=70:\n",
    "    print(\"C\")\n",
    "else:\n",
    "    print(\"fail\")"
   ]
  },
  {
   "cell_type": "code",
   "execution_count": 108,
   "id": "e8c6c942-23a7-4b29-baa6-4a628590bc6b",
   "metadata": {},
   "outputs": [
    {
     "name": "stdin",
     "output_type": "stream",
     "text": [
      " 6\n"
     ]
    },
    {
     "name": "stdout",
     "output_type": "stream",
     "text": [
      "even and positive\n"
     ]
    }
   ],
   "source": [
    "x=int(input())\n",
    "if x>0:\n",
    "    if x%2==0:\n",
    "        print(\"even and positive\")\n",
    "    else:\n",
    "        print(\"odd and positive\")\n",
    "else:\n",
    "    if x%2==0:\n",
    "        print(\"even and negative\")\n",
    "    else:\n",
    "        print(\"odd and negative\")"
   ]
  },
  {
   "cell_type": "code",
   "execution_count": 116,
   "id": "b20f5017-3924-4eeb-adbd-c80eb5a4698c",
   "metadata": {},
   "outputs": [
    {
     "name": "stdin",
     "output_type": "stream",
     "text": [
      "enter the colour 34\n"
     ]
    },
    {
     "name": "stdout",
     "output_type": "stream",
     "text": [
      "sorry the input given is a number\n"
     ]
    }
   ],
   "source": [
    "x=str(input(\"enter the colour\"))\n",
    "if x.isdigit():\n",
    "    print(\"sorry the input given is a number\")\n",
    "else:\n",
    "    print(f\"Your favourite colour is {x} colour\")"
   ]
  },
  {
   "cell_type": "code",
   "execution_count": 121,
   "id": "73005e83-048f-496f-8a34-675ac3c90de0",
   "metadata": {},
   "outputs": [
    {
     "name": "stdout",
     "output_type": "stream",
     "text": [
      "0\n",
      "1\n",
      "2\n",
      "3\n"
     ]
    }
   ],
   "source": [
    "for i in range(5):\n",
    "    print(i)\n",
    "    if(i==3):\n",
    "        break"
   ]
  },
  {
   "cell_type": "code",
   "execution_count": 202,
   "id": "2adfdcae-10ad-4fc1-96af-0f5b2e5346c0",
   "metadata": {},
   "outputs": [
    {
     "name": "stdout",
     "output_type": "stream",
     "text": [
      "wjasndkasd\n",
      "sd\n",
      "0\n",
      "wjasndkasd\n",
      "sd\n",
      "1\n",
      "2\n",
      "3\n",
      "4\n"
     ]
    }
   ],
   "source": [
    "for i in range(5):\n",
    "    if(i<=1):\n",
    "        continue\n",
    "        print(\"wjasndkasd\")\n",
    "        if(i<2):\n",
    "            print(\"sd\")\n",
    "    print(i)"
   ]
  },
  {
   "cell_type": "code",
   "execution_count": 203,
   "id": "0d9f1111-6d6c-4dad-9878-83077ca0f317",
   "metadata": {},
   "outputs": [
    {
     "name": "stdout",
     "output_type": "stream",
     "text": [
      "NKASD\n",
      "0\n",
      "NKASD\n",
      "1\n",
      "2\n",
      "3\n",
      "4\n"
     ]
    }
   ],
   "source": [
    "for i in range(5):\n",
    "    if(i<=1):\n",
    "        pass\n",
    "        print(\"NKASD\")\n",
    "    print(i)"
   ]
  },
  {
   "cell_type": "code",
   "execution_count": 155,
   "id": "a3934e09-6c87-4e3a-9cae-acb4a1f6702e",
   "metadata": {},
   "outputs": [
    {
     "name": "stdin",
     "output_type": "stream",
     "text": [
      "enter the string prajwal\n"
     ]
    },
    {
     "name": "stdout",
     "output_type": "stream",
     "text": [
      "7\n",
      "lawjarp\n"
     ]
    }
   ],
   "source": [
    "x=str(input(\"enter the string\"))\n",
    "y=''\n",
    "if x.isdigit():\n",
    "    print(\"sorry the input given is a number\")\n",
    "else:\n",
    "    z=len(x)\n",
    "    print(z)\n",
    "    for i in range(z-1,-1,-1):\n",
    "        y=y+x[i]\n",
    "    print(y)\n",
    "        "
   ]
  },
  {
   "cell_type": "code",
   "execution_count": 174,
   "id": "0a3d5887-4b4a-4762-966e-6dfbf86984ab",
   "metadata": {},
   "outputs": [
    {
     "name": "stdout",
     "output_type": "stream",
     "text": [
      "(180, 46.0)\n"
     ]
    }
   ],
   "source": [
    "#user defined funcitons\n",
    "\n",
    "def square(x,y=2):\n",
    "    \"\"\"sdgfgsjdkfjgfjsf\n",
    "    \"\"\"\n",
    "    result=x*2\n",
    "    avg=(x+y)/2\n",
    "    return result,avg\n",
    "\n",
    "y=square(90)\n",
    "print(y)"
   ]
  },
  {
   "cell_type": "code",
   "execution_count": 168,
   "id": "071651dc-cd10-48ec-93a4-aa9c8a59713e",
   "metadata": {},
   "outputs": [
    {
     "name": "stdout",
     "output_type": "stream",
     "text": [
      "sdgfgsjdkfjgfjsf\n",
      "    \n"
     ]
    }
   ],
   "source": [
    "print(square.__doc__)"
   ]
  },
  {
   "cell_type": "code",
   "execution_count": 176,
   "id": "f60024e5-81d9-4613-ae5b-17102a08a858",
   "metadata": {},
   "outputs": [
    {
     "name": "stdout",
     "output_type": "stream",
     "text": [
      "hello,prajwal\n"
     ]
    }
   ],
   "source": [
    "#default arguments will only print if no parameter is provided for that\n",
    "#default arguments should be written in the end\n",
    "\n",
    "def greet(name,greeting=\"hello\"):\n",
    "    print(f\"{greeting},{name}\")\n",
    "greet(\"prajwal\")"
   ]
  },
  {
   "cell_type": "code",
   "execution_count": 177,
   "id": "5396c3dd-1eac-4a34-ae8c-1c583c56c2bd",
   "metadata": {},
   "outputs": [],
   "source": [
    "#variable length arguments\n",
    "#*args = list\n",
    "#*kwargs (keyword arguments) = key value pair"
   ]
  },
  {
   "cell_type": "code",
   "execution_count": 181,
   "id": "53701169-5ab6-406c-9df3-d1230901b3ab",
   "metadata": {},
   "outputs": [
    {
     "name": "stdout",
     "output_type": "stream",
     "text": [
      "3628800\n"
     ]
    }
   ],
   "source": [
    "#recursive functions : \n",
    "\n",
    "def factorial(n):\n",
    "    if n==0 or n==1:\n",
    "        return 1\n",
    "    else:\n",
    "        return n*factorial(n-1)\n",
    "print(factorial(10))"
   ]
  },
  {
   "cell_type": "code",
   "execution_count": 182,
   "id": "346fca76-e2a2-42b0-8e2d-6735bde5d397",
   "metadata": {},
   "outputs": [],
   "source": [
    "#VARIABLE SCOPE\n"
   ]
  },
  {
   "cell_type": "code",
   "execution_count": 185,
   "id": "414e7f31-ee56-4756-bfb4-87e5380503c6",
   "metadata": {},
   "outputs": [
    {
     "name": "stdout",
     "output_type": "stream",
     "text": [
      "15\n"
     ]
    }
   ],
   "source": [
    "#nested functions\n",
    "\n",
    "#closures\n",
    "\n",
    "def outer_function(x):\n",
    "    def inner_function(y):\n",
    "        return x+y\n",
    "    return inner_function\n",
    "\n",
    "new=outer_function(10)\n",
    "result=new(5)\n",
    "print(result)"
   ]
  },
  {
   "cell_type": "code",
   "execution_count": 187,
   "id": "2cfdb9f6-a9f4-4680-ae8a-3cd281971c80",
   "metadata": {},
   "outputs": [
    {
     "name": "stdout",
     "output_type": "stream",
     "text": [
      "8\n",
      "16\n"
     ]
    }
   ],
   "source": [
    "#LAMBDA FUNCTIONS , search for use cases for ex: map()\n",
    "#single expression, limited readability, no documentation strings\n",
    "\n",
    "add=lambda x,y:x+y\n",
    "print(add(5,3))\n",
    "\n",
    "square=lambda x:x**2\n",
    "print(square(4))"
   ]
  },
  {
   "cell_type": "code",
   "execution_count": 192,
   "id": "b62a2bf6-333c-42ef-9424-f55db8b6a729",
   "metadata": {},
   "outputs": [
    {
     "name": "stdout",
     "output_type": "stream",
     "text": [
      "Errpr:division by zero\n",
      "money wont get cut if transaction is closed for database connections\n"
     ]
    }
   ],
   "source": [
    "#exceptions: what blocks our code execution\n",
    "\n",
    "#try except\n",
    "\n",
    "try:\n",
    "    result=10/0\n",
    "except ZeroDivisionError:\n",
    "    print(\"Errpr:division by zero\")\n",
    "finally:\n",
    "    print(\"money wont get cut if transaction is closed for database connections\")\n"
   ]
  },
  {
   "cell_type": "code",
   "execution_count": 205,
   "id": "b5a4b0dd-fe21-4d88-ac8a-d24ac1af16b0",
   "metadata": {},
   "outputs": [
    {
     "name": "stdin",
     "output_type": "stream",
     "text": [
      " home\n"
     ]
    },
    {
     "name": "stdout",
     "output_type": "stream",
     "text": [
      "emoh\n"
     ]
    }
   ],
   "source": [
    "x=input()\n",
    "y=\"\"\n",
    "for i in x:\n",
    "    y=i+y\n",
    "print(y)"
   ]
  },
  {
   "cell_type": "code",
   "execution_count": 109,
   "id": "01d03273-e29c-40f8-b821-1ad44453dbe3",
   "metadata": {},
   "outputs": [
    {
     "name": "stdout",
     "output_type": "stream",
     "text": [
      "*\n",
      "**\n",
      "***\n"
     ]
    }
   ],
   "source": [
    "for i in range(3):\n",
    "    for j in range(i+1):\n",
    "        print(\"*\",end=\"\")\n",
    "    print()"
   ]
  },
  {
   "cell_type": "code",
   "execution_count": 118,
   "id": "58129f6b-1be6-40a8-ae57-3b494a5f2e64",
   "metadata": {},
   "outputs": [
    {
     "name": "stdin",
     "output_type": "stream",
     "text": [
      " 5\n"
     ]
    },
    {
     "name": "stdout",
     "output_type": "stream",
     "text": [
      "     *\n",
      "    ***\n",
      "   *****\n",
      "  *******\n",
      " *********\n",
      "  *******\n",
      "   *****\n",
      "    ***\n",
      "     *\n"
     ]
    }
   ],
   "source": [
    "n=int(input())\n",
    "\n",
    "for i in range(n-1):\n",
    "    for j in range(i,n):\n",
    "        print(\" \",end=\"\")\n",
    "    for j in range(i):\n",
    "        print(\"*\",end=\"\")\n",
    "    for j in range(i+1):\n",
    "        print(\"*\",end=\"\")\n",
    "    print()\n",
    "for i in range(n):\n",
    "    for j in range(i+1):\n",
    "        print(\" \",end=\"\")\n",
    "    for j in range(i,n-1):\n",
    "        print(\"*\",end=\"\")\n",
    "    for j in range(i,n):\n",
    "        print(\"*\",end=\"\")\n",
    "    print()"
   ]
  },
  {
   "cell_type": "code",
   "execution_count": 35,
   "id": "de3509f6-1e4e-449c-8a60-bff17fd30dca",
   "metadata": {},
   "outputs": [
    {
     "name": "stdout",
     "output_type": "stream",
     "text": [
      "3\n"
     ]
    }
   ],
   "source": [
    "file=open(r\"C:\\Users\\psuhaspu\\OneDrive - Capgemini\\Desktop\\file2.txt\",'r') \n",
    "f=0\n",
    "while True:\n",
    "    line= file.readline()\n",
    "    if 'python' in line:\n",
    "        f+=1\n",
    "    else:\n",
    "        break\n",
    "        file.close()\n",
    "print(f)\n",
    "\n"
   ]
  },
  {
   "cell_type": "code",
   "execution_count": null,
   "id": "27c86740-14c4-4d2c-997b-923dd92db240",
   "metadata": {},
   "outputs": [],
   "source": [
    "print(\"hello\")"
   ]
  },
  {
   "cell_type": "code",
   "execution_count": 3,
   "id": "8ffb8a98-d08a-45dd-8450-5a1b7b03b192",
   "metadata": {},
   "outputs": [
    {
     "name": "stdout",
     "output_type": "stream",
     "text": [
      "3\n"
     ]
    }
   ],
   "source": [
    "file=open(r\"C:\\Users\\psuhaspu\\OneDrive - Capgemini\\Desktop\\file2.txt\",'r')\n",
    "c=0\n",
    "while True:\n",
    "    new=file.readline()\n",
    "    if 'python' in new:\n",
    "        c+=1\n",
    "    else:\n",
    "        break\n",
    "print(c)"
   ]
  },
  {
   "cell_type": "code",
   "execution_count": 12,
   "id": "0561775a-a19f-4a00-8ba2-4d47dda96adc",
   "metadata": {},
   "outputs": [
    {
     "name": "stdout",
     "output_type": "stream",
     "text": [
      "   1   2   3   4   5   6   7   8   9   10\n",
      "   2   4   6   8   10   12   14   16   18   20\n",
      "   3   6   9   12   15   18   21   24   27   30\n",
      "   4   8   12   16   20   24   28   32   36   40\n",
      "   5   10   15   20   25   30   35   40   45   50\n",
      "   6   12   18   24   30   36   42   48   54   60\n",
      "   7   14   21   28   35   42   49   56   63   70\n",
      "   8   16   24   32   40   48   56   64   72   80\n",
      "   9   18   27   36   45   54   63   72   81   90\n",
      "   10   20   30   40   50   60   70   80   90   100\n"
     ]
    }
   ],
   "source": [
    "n=10\n",
    "i=1\n",
    "while i<=n:\n",
    "    j=1\n",
    "    while j<=n:\n",
    "        print('  ',i*j,end=\"\")\n",
    "        j+=1\n",
    "    i+=1\n",
    "    print()"
   ]
  },
  {
   "cell_type": "code",
   "execution_count": 10,
   "id": "0891a026-ff27-4e13-a0f9-610959e738bf",
   "metadata": {},
   "outputs": [
    {
     "name": "stdin",
     "output_type": "stream",
     "text": [
      "Enter the number of students:  1\n",
      "Enter student name:  pra\n",
      "Enter score for pra:  34\n"
     ]
    },
    {
     "name": "stdout",
     "output_type": "stream",
     "text": [
      "{'pra': 34}\n",
      "\n",
      "Student Scores:\n",
      "pra: 34\n"
     ]
    }
   ],
   "source": [
    "num_students = int(input(\"Enter the number of students: \"))\n",
    "student_scores = {}\n",
    "\n",
    "for i in range(num_students):\n",
    "  name = input(\"Enter student name: \")\n",
    "  score = int(input(f\"Enter score for {name}: \"))\n",
    "  student_scores[name] = score\n",
    "print(student_scores)\n",
    "print(\"\\nStudent Scores:\")\n",
    "for student, score in student_scores.items():\n",
    "  print(f\"{student}: {score}\")\n"
   ]
  },
  {
   "cell_type": "code",
   "execution_count": 88,
   "id": "45720f82-3250-4679-99eb-152eb3e51951",
   "metadata": {},
   "outputs": [
    {
     "name": "stdin",
     "output_type": "stream",
     "text": [
      "Enter the number of students:  2\n",
      "enter student name: adway\n",
      "Enter score for adway:  45\n",
      "enter student name: prajwal\n",
      "Enter score for prajwal:  456\n"
     ]
    },
    {
     "name": "stdout",
     "output_type": "stream",
     "text": [
      "Average of student's scores is: 250.5\n"
     ]
    }
   ],
   "source": [
    "num_students = int(input(\"Enter the number of students: \"))\n",
    "student_scores={}\n",
    "\n",
    "d=0\n",
    "for i in range(num_students):\n",
    "    name= input(\"enter student name:\")\n",
    "    score = int(input(f\"Enter score for {name}: \"))\n",
    "    student_scores[name] = score\n",
    "    c=len(student_scores.values())\n",
    "    \n",
    "    \n",
    "for i in student_scores.values():\n",
    "        d=d+i\n",
    "    \n",
    "print(\"Average of student's scores is:\", round(d/c,2))"
   ]
  },
  {
   "cell_type": "code",
   "execution_count": 35,
   "id": "116f562b-6727-4cda-9bbf-64e694cef0b1",
   "metadata": {},
   "outputs": [
    {
     "name": "stdout",
     "output_type": "stream",
     "text": [
      "name 30\n",
      "Alice New York\n"
     ]
    }
   ],
   "source": [
    "my_dict = {\"name\": \"Alice\", \"name\": 30, \"Alice\": \"New York\"}\n",
    "\n",
    "for key, value in my_dict.items():\n",
    "    c=\n",
    "  print(key,value)\n"
   ]
  },
  {
   "cell_type": "code",
   "execution_count": null,
   "id": "526cd4b6-f92e-40dd-b2f0-5ae3d4693066",
   "metadata": {},
   "outputs": [],
   "source": [
    "num_students = int(input(\"Enter the number of students: \"))\n",
    "student_scores={}\n",
    "\n",
    "d=0\n",
    "for i in range(num_students):\n",
    "    name= input(\"enter student name:\")\n",
    "    score_num = int(input(f\"Enter number of scores for {name}: \"))\n",
    "\n",
    "    scores =[]\n",
    "    \n",
    "    for j in range(score_num):\n",
    "        score = int(input(f\"Enter score {j+1} for {name}: \"))\n",
    "        scores.append(score)\n",
    "        \n",
    "    student_scores[name] = scores\n",
    "    print(student_scores)\n",
    "    c=len(scores)\n",
    "    print(c)\n",
    "    \n",
    "l={}\n",
    "for i,j in student_scores.items():\n",
    "  total_score = sum(j)\n",
    "    \n",
    "  average_score = total_score / len(j)\n",
    "  l[i]=average_score\n",
    "    \n",
    "\n",
    "\n",
    "print(l)"
   ]
  },
  {
   "cell_type": "code",
   "execution_count": 132,
   "id": "98bdbfa2-511d-4839-b8be-f61da57430ab",
   "metadata": {},
   "outputs": [
    {
     "data": {
      "text/plain": [
       "4"
      ]
     },
     "execution_count": 132,
     "metadata": {},
     "output_type": "execute_result"
    }
   ],
   "source": [
    "def square(n):\n",
    "    c=n*n\n",
    "    return c\n",
    "\n",
    "square(2)\n"
   ]
  },
  {
   "cell_type": "code",
   "execution_count": 46,
   "id": "fa1668f8-a537-4566-a8e7-6b13f653974a",
   "metadata": {},
   "outputs": [
    {
     "name": "stdin",
     "output_type": "stream",
     "text": [
      "enter the number of items: 2\n",
      "enter the quantity for 1: 3\n",
      "enter the price of 1: 4\n",
      "enter the quantity for 2: 5\n",
      "enter the price of 2: 6\n"
     ]
    },
    {
     "name": "stdout",
     "output_type": "stream",
     "text": [
      "{3: 4}\n",
      "3 4\n",
      "12\n",
      "{5: 6}\n",
      "5 6\n",
      "30\n",
      "42\n"
     ]
    }
   ],
   "source": [
    "def totcost():\n",
    "    l=[]\n",
    "    n=int(input(\"enter the number of items:\"))\n",
    "    total=0\n",
    "    for i in range(n):\n",
    "        quantity=int(input(f\"enter the quantity for {i+1}:\"))\n",
    "        price=int(input(f\"enter the price of {i+1}:\"))\n",
    "        l.append({quantity:price})\n",
    "    k=0\n",
    "    for i in l:\n",
    "        print(i)\n",
    "        for i,j in i.items():\n",
    "            print(i,j)\n",
    "            new=i*j\n",
    "            print(new)\n",
    "        k+=new\n",
    "    return k\n",
    "k=totcost()\n",
    "print(k)\n",
    "\n",
    "        "
   ]
  },
  {
   "cell_type": "code",
   "execution_count": 64,
   "id": "b75b83ee-00e7-4a8e-9d05-7a1dd29ffa98",
   "metadata": {},
   "outputs": [
    {
     "name": "stdin",
     "output_type": "stream",
     "text": [
      "enter username: 2\n",
      "enter password: f\n"
     ]
    },
    {
     "name": "stdout",
     "output_type": "stream",
     "text": [
      "invalid credentails, try again 2 times\n"
     ]
    },
    {
     "name": "stdin",
     "output_type": "stream",
     "text": [
      "enter username: \n",
      "enter password: \n"
     ]
    },
    {
     "name": "stdout",
     "output_type": "stream",
     "text": [
      "invalid credentails, try again 1 times\n"
     ]
    },
    {
     "name": "stdin",
     "output_type": "stream",
     "text": [
      "enter username: df\n",
      "enter password: s\n"
     ]
    },
    {
     "name": "stdout",
     "output_type": "stream",
     "text": [
      "all 3 attempts failed\n"
     ]
    }
   ],
   "source": [
    "user1=\"prajwalpusadkar\"\n",
    "pass1=\"praj1234\"\n",
    "\n",
    "def authenticate(username,password,attempts=3):\n",
    "    while attempts>1:\n",
    "        \n",
    "        if username==user1 and password==pass1:\n",
    "            print(\"login success\")\n",
    "            break\n",
    "        \n",
    "        else:\n",
    "            print(f\"invalid credentails, try again {attempts-1} times\")\n",
    "            username=input(\"enter username:\")\n",
    "            password=input(\"enter password:\")\n",
    "        \n",
    "        attempts-=1\n",
    "    print(\"all 3 attempts failed\")\n",
    "  \n",
    "\n",
    "username=input(\"enter username:\")\n",
    "password=input(\"enter password:\")\n",
    "\n",
    "new=authenticate(username,password)"
   ]
  },
  {
   "cell_type": "code",
   "execution_count": 94,
   "id": "3be53e61-7d96-4f63-8d15-e82b1d951f9a",
   "metadata": {},
   "outputs": [
    {
     "name": "stdin",
     "output_type": "stream",
     "text": [
      "enter number of players: 2\n",
      "enter player health(good/bad/critical:) good\n",
      "enter player score(1-10): 2\n",
      "enter player level(1-100): 4\n",
      "enter player health(good/bad/critical:) bad\n",
      "enter player score(1-10): 2\n",
      "enter player level(1-100): 5\n"
     ]
    },
    {
     "name": "stdout",
     "output_type": "stream",
     "text": [
      "{1: {'health': 'good', 'score': 2, 'level': 4}, 2: {'health': 'bad', 'score': 2, 'level': 5}}\n"
     ]
    }
   ],
   "source": [
    "def stats():\n",
    "    l={}\n",
    "    l1=[]\n",
    "    n=int(input(\"enter number of players:\"))\n",
    "    for i in range(n):\n",
    "          health =input(\"enter player health(good/bad/critical:)\")\n",
    "          score =int(input(\"enter player score(1-10):\"))\n",
    "          level =int(input(\"enter player level(1-100):\"))\n",
    "          l2=({\"health\":health,\"score\":score,\"level\":level})\n",
    "          l[i+1]=l2\n",
    "    print(l)\n",
    "    return l\n",
    "\n",
    "l=stats()"
   ]
  },
  {
   "cell_type": "code",
   "execution_count": 104,
   "id": "83405837-83ac-417c-9353-2798559ae0c8",
   "metadata": {},
   "outputs": [
    {
     "name": "stdin",
     "output_type": "stream",
     "text": [
      "enter a number 90\n",
      "enter a number 10\n"
     ]
    },
    {
     "name": "stdout",
     "output_type": "stream",
     "text": [
      "Addition of 90,10 is 100\n",
      "subtraction of 90,10 is -80\n",
      "multiplication of 90,10 is 900\n",
      "division of 90,10 is 0.1111111111111111\n"
     ]
    }
   ],
   "source": [
    "def addition(x,y):\n",
    "    z=x+y\n",
    "    print(f\"Addition of {x},{y} is {z}\")\n",
    "    return z\n",
    "def subtration(x,y):\n",
    "    z=y-x\n",
    "    print(f\"subtraction of {x},{y} is {z}\")\n",
    "def multiplication(x,y):\n",
    "    z=y*x\n",
    "    print(f\"multiplication of {x},{y} is {z}\")\n",
    "def division(x,y):\n",
    "    z=y/x\n",
    "    print(f\"division of {x},{y} is {z}\")\n",
    "\n",
    "    \n",
    "x=int(input(\"enter a number\"))\n",
    "y=int(input(\"enter a number\"))\n",
    "\n",
    "z=addition(x,y)\n",
    "z=subtration(x,y)\n",
    "z=multiplication(x,y)\n",
    "z=division(x,y)"
   ]
  },
  {
   "cell_type": "code",
   "execution_count": 126,
   "id": "e912dad8-3628-41d6-9a44-5e2e9040c84d",
   "metadata": {},
   "outputs": [
    {
     "name": "stdout",
     "output_type": "stream",
     "text": [
      "5\n"
     ]
    },
    {
     "ename": "TypeError",
     "evalue": "'tuple' object does not support item assignment",
     "output_type": "error",
     "traceback": [
      "\u001b[1;31m---------------------------------------------------------------------------\u001b[0m",
      "\u001b[1;31mTypeError\u001b[0m                                 Traceback (most recent call last)",
      "Cell \u001b[1;32mIn[126], line 6\u001b[0m\n\u001b[0;32m      3\u001b[0m \u001b[38;5;28mprint\u001b[39m(l1[\u001b[38;5;241m2\u001b[39m])\n\u001b[0;32m      5\u001b[0m l2\u001b[38;5;241m=\u001b[39m(\u001b[38;5;241m2\u001b[39m,\u001b[38;5;241m5\u001b[39m,\u001b[38;5;241m7\u001b[39m,\u001b[38;5;124m'\u001b[39m\u001b[38;5;124mprajwal\u001b[39m\u001b[38;5;124m'\u001b[39m)\n\u001b[1;32m----> 6\u001b[0m l2[\u001b[38;5;241m2\u001b[39m]\u001b[38;5;241m=\u001b[39m(\u001b[38;5;241m9\u001b[39m)\n\u001b[0;32m      7\u001b[0m \u001b[38;5;28mprint\u001b[39m(l2)\n",
      "\u001b[1;31mTypeError\u001b[0m: 'tuple' object does not support item assignment"
     ]
    }
   ],
   "source": [
    "l1=[2]\n",
    "l1=[2,3,5,6]\n",
    "print(l1[2])\n",
    "\n",
    "l2=(2,5,7,'prajwal')\n",
    "l2[2]=(9)\n",
    "print(l2)"
   ]
  },
  {
   "cell_type": "code",
   "execution_count": 212,
   "id": "42d3d7ca-a380-42a6-8a61-a671135a4366",
   "metadata": {},
   "outputs": [
    {
     "name": "stdout",
     "output_type": "stream",
     "text": [
      "[1, 2, 'praj', 3, 4, 5]\n",
      "1\n",
      "['BMW', 'Audi']\n",
      "[3, 5, 7]\n",
      "[10, 9, 8, 7]\n",
      "(1, 2)\n",
      "[0, 1, 4, 9, 16]\n",
      "['p', 'y', 't', 'h', 'o', 'n']\n",
      "[4, 16, 36, 64]\n"
     ]
    }
   ],
   "source": [
    "l1=[2,3,4]\n",
    "l2=['prajwal']\n",
    "l1.append(5)\n",
    "l1.extend(l2)\n",
    "\n",
    "\n",
    "l3=[1,2,3,4,5]\n",
    "l3.insert(2,'praj')\n",
    "print(l3)\n",
    "\n",
    "l1.remove(2)\n",
    "\n",
    "\n",
    "new=l1.pop(1)\n",
    "\n",
    "del l1[2]\n",
    "\n",
    "#.reverse(),.copy()\n",
    "l4=['BMW','Audi']\n",
    "c=l4.count('BMW')\n",
    "print(c)\n",
    "l4.sort(reverse=True)\n",
    "print(l4)\n",
    "\n",
    "list1=[1,2,3,4,5,6,7,8,9,10]\n",
    "print(list1[2:7:2])\n",
    "print(list1[-1:-5:-1])\n",
    "\n",
    "string_slice=(1,2,3,4)\n",
    "print(string_slice[0:2])\n",
    "\n",
    "#list comprehension\n",
    "\n",
    "squares=[x**2 for x in range(5)]\n",
    "print(squares)\n",
    "\n",
    "even_squared=[x**2 if x%2 ==0 else x**3 for x in range(6)]\n",
    "\n",
    "string_py=[x for x in \"python\"]\n",
    "print(string_py)\n",
    "\n",
    "\n",
    "odd_numbers=[x for x in range(10) if x%2!=0]\n",
    "odd_numbers\n",
    "\n",
    "nested_matrix =[[1,2,3],[4,5,6],[7,8,9]]\n",
    "fil_squared=[x**2 for row in nested_matrix for x in row if x%2 == 0 ]\n",
    "print(fil_squared)\n"
   ]
  },
  {
   "cell_type": "code",
   "execution_count": 215,
   "id": "b683d5fd-7fd1-4be8-9149-8f675eac788a",
   "metadata": {},
   "outputs": [
    {
     "name": "stdout",
     "output_type": "stream",
     "text": [
      "[0, 1, 4, 3, 16, 5, 36, 7]\n"
     ]
    }
   ],
   "source": [
    "#list comprehension in functions\n",
    "def square_if_even(x):\n",
    "    return x**2 if x%2==0 else x\n",
    "squared_list = [square_if_even(x) for x in range(8)]\n",
    "print(squared_list)"
   ]
  },
  {
   "cell_type": "code",
   "execution_count": 245,
   "id": "8cf83e36-30bc-4e57-9f43-fb581a487a4f",
   "metadata": {},
   "outputs": [
    {
     "name": "stdin",
     "output_type": "stream",
     "text": [
      "enter the number of students: 2\n",
      "enter the name for 1: prajwal\n",
      "enter the score of 1: 30\n",
      "enter the name for 2: harkesh\n",
      "enter the score of 2: 40\n"
     ]
    },
    {
     "name": "stdout",
     "output_type": "stream",
     "text": [
      "[{'prajwal': 30}, {'harkesh': 40}]\n",
      "35.0\n"
     ]
    }
   ],
   "source": [
    "l=[]\n",
    "n=int(input(\"enter the number of students:\"))\n",
    "for i in range(n):\n",
    "    name=str(input(f\"enter the name for {i+1}:\"))\n",
    "    score=int(input(f\"enter the score of {i+1}:\"))\n",
    "    l.append({name:score})\n",
    "\n",
    "print(l)\n",
    "list1=[]\n",
    "sum=0\n",
    "for i in l:\n",
    "    for j in i.values():\n",
    "        sum+=j\n",
    "        list1.append(j)\n",
    "        avg=sum/len(list1)\n",
    "        list1.sort()\n",
    "        \n",
    "print(list1) \n",
    "print(avg)\n",
    "        \n",
    "    "
   ]
  },
  {
   "cell_type": "code",
   "execution_count": 254,
   "id": "755dcc7a-c23e-42a6-a6d7-0f417ab0ef98",
   "metadata": {},
   "outputs": [
    {
     "name": "stdin",
     "output_type": "stream",
     "text": [
      "enter the number of students: 2\n",
      "enter the name for 1: prajwal\n",
      "enter the score of 1: 20\n"
     ]
    },
    {
     "name": "stdout",
     "output_type": "stream",
     "text": [
      "['prajwal'] [20]\n"
     ]
    },
    {
     "name": "stdin",
     "output_type": "stream",
     "text": [
      "enter the name for 2: asdasd\n",
      "enter the score of 2: 70\n"
     ]
    },
    {
     "name": "stdout",
     "output_type": "stream",
     "text": [
      "['asdasd', 'prajwal'] [20, 70]\n",
      "prajwal\n"
     ]
    }
   ],
   "source": [
    "l=[]\n",
    "l1=[]\n",
    "n=int(input(\"enter the number of students:\"))\n",
    "for i in range(n):\n",
    "    name=str(input(f\"enter the name for {i+1}:\"))\n",
    "    score=int(input(f\"enter the score of {i+1}:\"))\n",
    "    l.append(name)\n",
    "    l.sort()\n",
    "    l1.append(score)\n",
    "    l1.sort()\n",
    "    for j,k in zip(l,l1):\n",
    "        if k>50:\n",
    "            print(j)\n",
    "        else:\n",
    "            print(l,l1)\n",
    "        \n",
    "\n",
    "\n",
    "    "
   ]
  },
  {
   "cell_type": "code",
   "execution_count": 279,
   "id": "8bce4fe2-1b56-4344-9c2e-c6033ec10ee4",
   "metadata": {},
   "outputs": [
    {
     "name": "stdout",
     "output_type": "stream",
     "text": [
      "34.666666666666664\n",
      "74\n"
     ]
    }
   ],
   "source": [
    "#advantages of Tuples:\n",
    "#thread safety: concurrency, parallelism\n",
    "#data integrity\n",
    "#hashability\n",
    "#Perfomance benefits\n",
    "\n",
    "maths=('m',['prajwal','parth','harkesh'],[20,10,74])\n",
    "sum=0\n",
    "\n",
    "for i in maths[2]:\n",
    "    sum+=i\n",
    "print (sum/len(maths[2]))\n",
    "\n",
    "maths[2].sort()\n",
    "print(maths[2][-1])"
   ]
  },
  {
   "cell_type": "code",
   "execution_count": 408,
   "id": "ae2a5b1e-6236-4332-b085-444eb3ef7751",
   "metadata": {},
   "outputs": [
    {
     "name": "stdout",
     "output_type": "stream",
     "text": [
      "d\n"
     ]
    }
   ],
   "source": [
    "#find the first non recurring occurence of a string\n",
    "\n",
    "jstring=\"adway\"\n",
    "newj=\"\"\n",
    "c=0\n",
    "\n",
    "\n",
    "for i in jstring:\n",
    "    if jstring.count(i)==1:\n",
    "        newj+=i\n",
    "    \n",
    "print(newj[0])\n",
    "\n",
    "\n",
    "\n",
    "        \n",
    "        \n",
    "        \n",
    "            \n",
    "           \n",
    "        \n",
    "        \n",
    "            \n",
    "        \n",
    "    \n"
   ]
  },
  {
   "cell_type": "code",
   "execution_count": 283,
   "id": "dc06dd2a-47d3-4af6-8ed0-bc9c158dc2fd",
   "metadata": {},
   "outputs": [
    {
     "data": {
      "text/plain": [
       "['liner', 'algebra']"
      ]
     },
     "execution_count": 283,
     "metadata": {},
     "output_type": "execute_result"
    }
   ],
   "source": [
    "dict1={\n",
    "    \"name\":\"prajwal\",\n",
    " \"subject\":{\n",
    "     \"maths\":[\"liner\",\"algebra\"]\n",
    " }\n",
    "}\n",
    "dict1[\"subject\"][\"maths\"]"
   ]
  },
  {
   "cell_type": "code",
   "execution_count": 286,
   "id": "9ad17734-fd60-4b6a-a4b0-ab7d86e6d2eb",
   "metadata": {},
   "outputs": [
    {
     "data": {
      "text/plain": [
       "{0: 0, 2: 4, 4: 16}"
      ]
     },
     "execution_count": 286,
     "metadata": {},
     "output_type": "execute_result"
    }
   ],
   "source": [
    "dict2={x: x**2 for x in range(0,5) if x%2==0}\n",
    "dict2"
   ]
  },
  {
   "cell_type": "code",
   "execution_count": 92,
   "id": "8b095dc8-1c45-48c5-89dd-69fd0aa5fab0",
   "metadata": {},
   "outputs": [
    {
     "name": "stdout",
     "output_type": "stream",
     "text": [
      "(6000, 'adway')\n",
      "adway\n",
      "[('adway', 6000), ('harkesh', 5000), ('prajwal', 4000)]\n",
      "5000.0\n"
     ]
    }
   ],
   "source": [
    "dict3={\n",
    "    \"prajwal\":4000,\n",
    "    \"harkesh\":5000,\n",
    "    \"adway\":6000\n",
    "}\n",
    "print(max(zip(dict3.values(),dict3.keys())))\n",
    "\n",
    "n=0\n",
    "for i,j in dict3.items():\n",
    "    n+=j\n",
    "    new=n/len(dict3)\n",
    "    if j >5000:\n",
    "        print(i)\n",
    "print(sorted(dict3.items()))\n",
    "print(new)"
   ]
  },
  {
   "cell_type": "code",
   "execution_count": 109,
   "id": "0459d892-3163-495f-a79a-a09f6c2e2cf2",
   "metadata": {},
   "outputs": [
    {
     "name": "stdout",
     "output_type": "stream",
     "text": [
      "<function <lambda> at 0x0000022AEA43E2A0>\n"
     ]
    }
   ],
   "source": [
    "employee_data = {\n",
    "    \"Alice\": {\"salary\": 4500, \"age\": 30},\n",
    "    \"Bob\": {\"salary\": 5800, \"age\": 42},\n",
    "    \"Charlie\": {\"salary\": 3900, \"age\": 25},\n",
    "    \"David\": {\"salary\": 6200, \"age\": 38},\n",
    "    \"Eve\": {\"salary\": 5100, \"age\": 28},\n",
    "}\n",
    "\n",
    "# Find oldest employee\n",
    "oldest_age = max(employee_data.values(), key=lambda x: x[\"age\"])[\"age\"]\n"
   ]
  },
  {
   "cell_type": "code",
   "execution_count": 107,
   "id": "6f497f5b-4356-4622-9ec4-cc740e2bd0dd",
   "metadata": {},
   "outputs": [],
   "source": [
    "#print sum of digits"
   ]
  },
  {
   "cell_type": "code",
   "execution_count": 108,
   "id": "2d7f723c-3b71-4164-9189-815cf9a283d3",
   "metadata": {},
   "outputs": [
    {
     "name": "stdout",
     "output_type": "stream",
     "text": [
      "{0, 1, 'parth', 'adway', 'prajwal'}\n"
     ]
    }
   ],
   "source": [
    "#set has unique values .update() .add() .pop() .remove() check membership(9 in set1) | (union) &(common element in set) (-) (common will get deleted)\n",
    "\n",
    "set1={'prajwal','parth','adway'}\n",
    "set2={0,1}\n",
    "\n",
    "newset= set1|set2\n",
    "print(newset)\n",
    "\n",
    "set3=newset.copy()\n",
    "\n",
    "set3.add(\"ronak\")\n",
    "\n",
    "if 'parth' in set3:\n",
    "    set3.remove('parth')\n",
    "else:\n",
    "    print(\"not in set\")\n",
    "\n",
    "\n",
    "\n",
    "\n",
    "\n"
   ]
  },
  {
   "cell_type": "code",
   "execution_count": 411,
   "id": "b8a63678-58b3-4cca-a8b1-b1c09bb20207",
   "metadata": {},
   "outputs": [
    {
     "name": "stdout",
     "output_type": "stream",
     "text": [
      "dwy\n",
      "d\n"
     ]
    }
   ],
   "source": [
    "#find the first non recurring occurence of a string\n",
    "\n",
    "jstring=\"adway\"\n",
    "newj=\"\"\n",
    "c=0\n",
    "\n",
    "\n",
    "for i in jstring:\n",
    "    if jstring.count(i)==1:\n",
    "        newj+=i\n",
    "    \n",
    "print(newj[0])\n",
    "\n",
    "\n"
   ]
  },
  {
   "cell_type": "code",
   "execution_count": 487,
   "id": "204d1572-6ecb-4439-bc06-7a930a92ca4f",
   "metadata": {},
   "outputs": [
    {
     "name": "stdout",
     "output_type": "stream",
     "text": [
      "Palindrome lol\n"
     ]
    }
   ],
   "source": [
    "ilu=112128\n",
    "while True:\n",
    "    \n",
    "    r=ilu/10\n",
    "    r=str(r)\n",
    "    \n",
    "    l=[]\n",
    "    l1=\"\"\n",
    "    for i in r:\n",
    "        l.append(i)\n",
    "    for j in l:\n",
    "        if j=='.':\n",
    "            l.remove(j)    \n",
    "    for k in l:\n",
    "        l1+=k\n",
    "  \n",
    "    l2=int(l1)\n",
    "    \n",
    "    \n",
    "    if l2==ilu:\n",
    "        print(\"Palindrome lol\")\n",
    "        break\n",
    "    else:\n",
    "        print(\"not palindrome\")\n",
    "        break\n",
    "    "
   ]
  },
  {
   "cell_type": "code",
   "execution_count": null,
   "id": "f5058487-a10a-4b86-9f3e-2b997e4e2bda",
   "metadata": {},
   "outputs": [],
   "source": []
  },
  {
   "cell_type": "code",
   "execution_count": 89,
   "id": "8bce0215-24b4-42e4-95b1-9534332eebaa",
   "metadata": {},
   "outputs": [
    {
     "name": "stdout",
     "output_type": "stream",
     "text": [
      "('harkesh', 40, 96)\n",
      "(('prajwal', 20, 45), ('adway', 30, 78), ('harkesh', 40, 96))\n",
      "[('prajwal', 20, 45), ('adway', 30, 78), ('harkesh', 40, 96)]\n"
     ]
    }
   ],
   "source": [
    "names=['prajwal','adway','harkesh']\n",
    "ages=[20,30,40]\n",
    "grades=[45,78,96]\n",
    "\n",
    "new=tuple(zip(names,ages,grades))\n",
    "\n",
    "for i,j,k in zip(names,ages,grades):\n",
    "    if j>30:\n",
    "        print (tuple((i,j,k)))\n",
    "\n",
    "list=[]\n",
    "for i in new:\n",
    "    list.append(i)\n",
    "    \n",
    "print(new)\n",
    "print(list)"
   ]
  },
  {
   "cell_type": "code",
   "execution_count": 91,
   "id": "429c17d5-2d7d-4fc9-b87a-0740779037ff",
   "metadata": {},
   "outputs": [
    {
     "name": "stdout",
     "output_type": "stream",
     "text": [
      "(('prajwal', 50, 45), ('adway', 60, 78), ('harkesh', 40, 96))\n",
      "(('prajwal', 50, 45), ('adway', 60, 78), ('harkesh', 40, 96))\n",
      "4680\n",
      "(('prajwal', 50, 45), ('adway', 60, 78), ('harkesh', 40, 96))\n"
     ]
    }
   ],
   "source": [
    "names=['prajwal','adway','harkesh']\n",
    "hours=[50,60,40]\n",
    "salary=[45,78,96]\n",
    "l1=[]\n",
    "\n",
    "new=tuple(zip(names,hours,salary))\n",
    "tot=0\n",
    "totsal=0\n",
    "high=0\n",
    "for i in new:\n",
    "    tot=i[1]*i[2]\n",
    "    if tot>high:\n",
    "        print(new)\n",
    "        high=tot\n",
    "    \n",
    "print(high)\n",
    "print(new)\n",
    "\n"
   ]
  },
  {
   "cell_type": "code",
   "execution_count": 85,
   "id": "d65fce80-2e20-4427-bfe2-c9c1fb20d91a",
   "metadata": {},
   "outputs": [
    {
     "data": {
      "text/plain": [
       "('grade', 'A')"
      ]
     },
     "execution_count": 85,
     "metadata": {},
     "output_type": "execute_result"
    }
   ],
   "source": [
    "student_info = {'name': 'Alice', 'age': 22, 'grade': 'A'}\n",
    "student_info.popitem()"
   ]
  },
  {
   "cell_type": "code",
   "execution_count": 86,
   "id": "6d5623e6-d2b3-4ad3-932b-742b79f0c035",
   "metadata": {},
   "outputs": [
    {
     "name": "stdout",
     "output_type": "stream",
     "text": [
      "{'apple': 5, 'banana': 6, 'orange': 6}\n"
     ]
    }
   ],
   "source": [
    "words = ['apple', 'banana', 'orange']\n",
    "word_lengths = {word: len(word) for word in words}\n",
    "print(word_lengths)"
   ]
  },
  {
   "cell_type": "code",
   "execution_count": 87,
   "id": "0b85fb92-a875-4191-9da8-fcac55d0d7c0",
   "metadata": {},
   "outputs": [
    {
     "name": "stdout",
     "output_type": "stream",
     "text": [
      "{'name': 'Alice', 'age': 25, 'city': 'New York'}\n"
     ]
    }
   ],
   "source": [
    "keys = ['name', 'age', 'city']\n",
    "values = ['Alice', 25, 'New York']\n",
    "info_dict = {keys[i]: values[i] for i in range(len(keys))}\n",
    "print(info_dict)"
   ]
  },
  {
   "cell_type": "code",
   "execution_count": 110,
   "id": "c2d107ce-8204-402f-a50e-f9fd7fc63a32",
   "metadata": {},
   "outputs": [],
   "source": [
    "import numpy as np"
   ]
  },
  {
   "cell_type": "code",
   "execution_count": 114,
   "id": "eda79941-bf21-4e72-b221-2e4c132ef87b",
   "metadata": {},
   "outputs": [
    {
     "name": "stdout",
     "output_type": "stream",
     "text": [
      "[1 2 3 4 5]\n",
      "<class 'numpy.ndarray'>\n"
     ]
    }
   ],
   "source": [
    "arr=np.array([1,2,3,4,5])\n",
    "print(arr)\n",
    "print(type(arr)) #trignometric formulaes, multidimensional arrays, element wise operations (ndarray)"
   ]
  },
  {
   "cell_type": "code",
   "execution_count": 137,
   "id": "b74b0401-79f7-402d-a5fc-7526beecb994",
   "metadata": {},
   "outputs": [
    {
     "name": "stdout",
     "output_type": "stream",
     "text": [
      "[[0. 0. 0.]\n",
      " [0. 0. 0.]\n",
      " [0. 0. 0.]\n",
      " [0. 0. 0.]]\n",
      "[0 2 4 6 8]\n",
      "[0.   0.25 0.5  0.75 1.  ]\n",
      "[[0.48955251 0.49844924 0.2926367 ]\n",
      " [0.38787593 0.49171517 0.8608941 ]\n",
      " [0.27229353 0.6217307  0.10454003]]\n",
      "[[22 76  9]\n",
      " [ 1 17 61]\n",
      " [55 13 66]]\n"
     ]
    },
    {
     "data": {
      "text/plain": [
       "7"
      ]
     },
     "execution_count": 137,
     "metadata": {},
     "output_type": "execute_result"
    }
   ],
   "source": [
    "zeros_arr= np.zeros((4,3)) #np.ones ....\n",
    "print(zeros_arr)\n",
    "\n",
    "arr= np.arange(0,10,2)\n",
    "print(arr)\n",
    "\n",
    "lin_arr=np.linspace(0,1,5)\n",
    "print(lin_arr)\n",
    "\n",
    "rand_arr1=np.random.rand(3,3)\n",
    "print(rand_arr1)\n",
    "\n",
    "rand_arr=np.random.randint(100,size=(3,3))\n",
    "print(rand_arr)\n",
    "\n",
    "x=np.random.choice([3,4,5,7])\n",
    "x\n",
    "\n",
    "\n",
    "\n",
    "\n",
    "\n"
   ]
  },
  {
   "cell_type": "code",
   "execution_count": 172,
   "id": "c285dd19-845f-4896-bcc4-aee9e7069b9b",
   "metadata": {},
   "outputs": [
    {
     "name": "stdout",
     "output_type": "stream",
     "text": [
      "[[[[ 1  2  3  4  5  6  7  8  9 10 11 12]]]]\n",
      "[[[ 1  2]\n",
      "  [ 3  4]\n",
      "  [ 5  6]]\n",
      "\n",
      " [[ 7  8]\n",
      "  [ 9 10]\n",
      "  [11 12]]]\n"
     ]
    }
   ],
   "source": [
    "arr1=np.array([1,2,3,4,5,6,7,8,9,10,11,12],ndmin=4)\n",
    "print(arr1)\n",
    "\n",
    "print(arr1.reshape(2,3,-1))\n",
    "\n",
    "#check onlince once\n",
    "\n"
   ]
  },
  {
   "cell_type": "code",
   "execution_count": 182,
   "id": "03bc7a35-6612-4f99-bec2-b0570d925473",
   "metadata": {},
   "outputs": [
    {
     "name": "stdout",
     "output_type": "stream",
     "text": [
      "int32\n",
      "[1 2 3 4]\n"
     ]
    },
    {
     "data": {
      "text/plain": [
       "b'dogs'"
      ]
     },
     "execution_count": 182,
     "metadata": {},
     "output_type": "execute_result"
    }
   ],
   "source": [
    "#numpy data types: i,b,u-unassigned integer, f-float, c-complex, m-timedelta, M-datetime, O-object, S-string, U-unicode, V-fixed chunk of memory(void)\n",
    "\n",
    "arr=np.array([1,2,3,4])\n",
    "print(arr.dtype)\n",
    "print(arr)\n",
    "\n",
    "arr=np.array(['dogs','cats','horse'],dtype='S') #|S5 - '5' represents the count of word with max length\n",
    "arr[0]"
   ]
  },
  {
   "cell_type": "code",
   "execution_count": 194,
   "id": "4f8ef44d-416b-4c43-a827-7ab480cab7dd",
   "metadata": {},
   "outputs": [
    {
     "name": "stdout",
     "output_type": "stream",
     "text": [
      "[[1 2 3]\n",
      " [4 5 6]\n",
      " [7 8 9]]\n",
      "2\n",
      "[4 5 6]\n",
      "[3 6 9]\n"
     ]
    },
    {
     "data": {
      "text/plain": [
       "array([6, 7, 8, 9])"
      ]
     },
     "execution_count": 194,
     "metadata": {},
     "output_type": "execute_result"
    }
   ],
   "source": [
    "arr=np.array([[1,2,3],[4,5,6],[7,8,9]])\n",
    "print(arr)\n",
    "print(arr[0,1])\n",
    "print(arr[1,:])\n",
    "print(arr[:,2])\n",
    "\n",
    "mask=arr>5\n",
    "filtered=arr[mask]\n",
    "filtered"
   ]
  },
  {
   "cell_type": "code",
   "execution_count": 205,
   "id": "068c1673-f1c4-440e-bc46-8e3cb8413d7b",
   "metadata": {},
   "outputs": [
    {
     "name": "stdout",
     "output_type": "stream",
     "text": [
      "[[ 8  6  0  9 10]\n",
      " [ 3  2  0 10  0]\n",
      " [ 2  1  8 10 10]\n",
      " [ 7 10 10  5  5]\n",
      " [11  9  3  5 10]]\n"
     ]
    },
    {
     "data": {
      "text/plain": [
       "array([[6],\n",
       "       [2]])"
      ]
     },
     "execution_count": 205,
     "metadata": {},
     "output_type": "execute_result"
    }
   ],
   "source": [
    "rand_arr=np.random.randint(12,size=(5,5))\n",
    "print(rand_arr)\n",
    "\n",
    "rand_arr[:2,1:3:2]"
   ]
  },
  {
   "cell_type": "code",
   "execution_count": 218,
   "id": "f9251d95-93f6-401b-90e0-f317e97adf44",
   "metadata": {},
   "outputs": [
    {
     "name": "stdout",
     "output_type": "stream",
     "text": [
      "[[-2 -1 -1]\n",
      " [-3 -2 -2]]\n",
      "2.5\n",
      "[[ 8 12 20]\n",
      " [ 4  8 15]]\n"
     ]
    }
   ],
   "source": [
    "arr1=np.array([[2,3,4],[1,2,3]])\n",
    "arr2=np.array([4,4,5])\n",
    "\n",
    "sub= arr1-arr2\n",
    "print(sub)\n",
    "mean=np.mean(arr1)\n",
    "print(mean)\n",
    "add =arr1*arr2\n",
    "print(add)\n",
    "\n",
    "#np.exp(),.sin(),.cos(),.log(),.sum(),.min(),.max()"
   ]
  },
  {
   "cell_type": "code",
   "execution_count": 270,
   "id": "86794ac2-6b7d-48c9-bb05-29858d174c82",
   "metadata": {},
   "outputs": [
    {
     "data": {
      "text/plain": [
       "<matplotlib.image.AxesImage at 0x22af53ee110>"
      ]
     },
     "execution_count": 270,
     "metadata": {},
     "output_type": "execute_result"
    },
    {
     "data": {
      "image/png": "[encoded data removed]",
      "text/plain": [
       "<Figure size 1000x1000 with 2 Axes>"
      ]
     },
     "metadata": {},
     "output_type": "display_data"
    }
   ],
   "source": [
    "from PIL import Image,ImageOps\n",
    "import matplotlib.pyplot as plt\n",
    "import numpy as np\n",
    "\n",
    "img=np.array(Image.open(r\"C:\\Users\\psuhaspu\\Downloads\\pythonpic.jpeg\"))\n",
    "degrees=90\n",
    "\n",
    "fig=plt.figure(figsize=(10,10))\n",
    "\n",
    "fig.add_subplot(1,2,1)\n",
    "plt.imshow(img)\n",
    "plt.title(\"original\")\n",
    "img0=img.copy()\n",
    "\n",
    "for _ in range(degrees //90):\n",
    "    img0=img0.transpose(1,0,2)\n",
    "    \n",
    "\n",
    "fig.add_subplot(1,2,2)\n",
    "plt.imshow(img0)"
   ]
  },
  {
   "cell_type": "code",
   "execution_count": 271,
   "id": "da4fb927-bb6a-4845-bbbf-934bf7be4693",
   "metadata": {},
   "outputs": [],
   "source": [
    "import pandas as pd"
   ]
  },
  {
   "cell_type": "code",
   "execution_count": 291,
   "id": "6748d3e6-1e94-4d2d-86bc-61fc2ccddf1b",
   "metadata": {},
   "outputs": [
    {
     "name": "stdout",
     "output_type": "stream",
     "text": [
      "      name  age\n",
      "0    alice   25\n",
      "1      bob   30\n",
      "2  charlie   35\n"
     ]
    }
   ],
   "source": [
    "data ={\n",
    "    'name':['alice','bob','charlie'],\n",
    "    'age':[25,30,35]\n",
    "}\n",
    "\n",
    "new=pd.DataFrame(data)\n",
    "print(new)\n",
    "\n",
    "csvdata=pd.read_csv(r\"C:\\Users\\psuhaspu\\Downloads\\Registration Details.csv\")\n",
    "\n",
    "# print(csvdata['NAME OF STUDENT'])\n",
    "\n",
    "# exceldata=pd.read_excel(r\"C:\\Users\\psuhaspu\\Downloads\\Registration Details.xlsx\")\n"
   ]
  },
  {
   "cell_type": "code",
   "execution_count": 292,
   "id": "8d367dc6-e2ff-4df1-86f3-a9caa58afb87",
   "metadata": {},
   "outputs": [
    {
     "name": "stdout",
     "output_type": "stream",
     "text": [
      "<class 'pandas.core.frame.DataFrame'>\n",
      "RangeIndex: 102 entries, 0 to 101\n",
      "Data columns (total 8 columns):\n",
      " #   Column             Non-Null Count  Dtype  \n",
      "---  ------             --------------  -----  \n",
      " 0   ADMISSION DATE     14 non-null     object \n",
      " 1   NAME OF STUDENT    19 non-null     object \n",
      " 2   GENDER             19 non-null     object \n",
      " 3   DOB                14 non-null     object \n",
      " 4   STUDENT EMAIL ID   14 non-null     object \n",
      " 5   NO. OF ADMISIONS   0 non-null      float64\n",
      " 6   ENQUIRY NO.        14 non-null     object \n",
      " 7   REGISTRATION NO    14 non-null     object \n",
      "dtypes: float64(1), object(7)\n",
      "memory usage: 6.5+ KB\n"
     ]
    }
   ],
   "source": [
    "csvdata.info()"
   ]
  },
  {
   "cell_type": "code",
   "execution_count": 295,
   "id": "01b9db79-1ef5-4076-8fae-68ded70169cf",
   "metadata": {},
   "outputs": [
    {
     "data": {
      "text/plain": [
       "Index(['ADMISSION DATE', 'NAME OF STUDENT ', 'GENDER', 'DOB',\n",
       "       'STUDENT EMAIL ID ', 'NO. OF ADMISIONS ', 'ENQUIRY NO.',\n",
       "       'REGISTRATION NO'],\n",
       "      dtype='object')"
      ]
     },
     "execution_count": 295,
     "metadata": {},
     "output_type": "execute_result"
    }
   ],
   "source": [
    "csvdata.columns"
   ]
  },
  {
   "cell_type": "code",
   "execution_count": 297,
   "id": "07688464-6339-4e08-9051-8ca70c5d79fd",
   "metadata": {},
   "outputs": [
    {
     "name": "stdout",
     "output_type": "stream",
     "text": [
      "0                 millind arora\n",
      "1                      abhinav \n",
      "2                rahul tripathi\n",
      "3                        sumit \n",
      "4                    amit saini\n",
      "                 ...           \n",
      "97                   Reema Jain\n",
      "98                       Kamini\n",
      "99               monika sheoran\n",
      "100             Pooja chaurasia\n",
      "101    Kanwal Jeet Singh Talwar\n",
      "Name: NAME OF STUDENT , Length: 102, dtype: object\n"
     ]
    },
    {
     "ename": "FileNotFoundError",
     "evalue": "[Errno 2] No such file or directory: 'C:\\\\Users\\\\psuhaspu\\\\Downloads\\\\Registration Details.xlsx'",
     "output_type": "error",
     "traceback": [
      "\u001b[1;31m---------------------------------------------------------------------------\u001b[0m",
      "\u001b[1;31mFileNotFoundError\u001b[0m                         Traceback (most recent call last)",
      "Cell \u001b[1;32mIn[297], line 3\u001b[0m\n\u001b[0;32m      1\u001b[0m \u001b[38;5;28mprint\u001b[39m(csvdata[\u001b[38;5;124m'\u001b[39m\u001b[38;5;124mNAME OF STUDENT \u001b[39m\u001b[38;5;124m'\u001b[39m])\n\u001b[1;32m----> 3\u001b[0m exceldata\u001b[38;5;241m=\u001b[39mpd\u001b[38;5;241m.\u001b[39mread_excel(\u001b[38;5;124mr\u001b[39m\u001b[38;5;124m\"\u001b[39m\u001b[38;5;124mC:\u001b[39m\u001b[38;5;124m\\\u001b[39m\u001b[38;5;124mUsers\u001b[39m\u001b[38;5;124m\\\u001b[39m\u001b[38;5;124mpsuhaspu\u001b[39m\u001b[38;5;124m\\\u001b[39m\u001b[38;5;124mDownloads\u001b[39m\u001b[38;5;124m\\\u001b[39m\u001b[38;5;124mRegistration Details.xlsx\u001b[39m\u001b[38;5;124m\"\u001b[39m)\n",
      "File \u001b[1;32m~\\AppData\\Local\\anaconda3\\Lib\\site-packages\\pandas\\io\\excel\\_base.py:504\u001b[0m, in \u001b[0;36mread_excel\u001b[1;34m(io, sheet_name, header, names, index_col, usecols, dtype, engine, converters, true_values, false_values, skiprows, nrows, na_values, keep_default_na, na_filter, verbose, parse_dates, date_parser, date_format, thousands, decimal, comment, skipfooter, storage_options, dtype_backend, engine_kwargs)\u001b[0m\n\u001b[0;32m    502\u001b[0m \u001b[38;5;28;01mif\u001b[39;00m \u001b[38;5;129;01mnot\u001b[39;00m \u001b[38;5;28misinstance\u001b[39m(io, ExcelFile):\n\u001b[0;32m    503\u001b[0m     should_close \u001b[38;5;241m=\u001b[39m \u001b[38;5;28;01mTrue\u001b[39;00m\n\u001b[1;32m--> 504\u001b[0m     io \u001b[38;5;241m=\u001b[39m ExcelFile(\n\u001b[0;32m    505\u001b[0m         io,\n\u001b[0;32m    506\u001b[0m         storage_options\u001b[38;5;241m=\u001b[39mstorage_options,\n\u001b[0;32m    507\u001b[0m         engine\u001b[38;5;241m=\u001b[39mengine,\n\u001b[0;32m    508\u001b[0m         engine_kwargs\u001b[38;5;241m=\u001b[39mengine_kwargs,\n\u001b[0;32m    509\u001b[0m     )\n\u001b[0;32m    510\u001b[0m \u001b[38;5;28;01melif\u001b[39;00m engine \u001b[38;5;129;01mand\u001b[39;00m engine \u001b[38;5;241m!=\u001b[39m io\u001b[38;5;241m.\u001b[39mengine:\n\u001b[0;32m    511\u001b[0m     \u001b[38;5;28;01mraise\u001b[39;00m \u001b[38;5;167;01mValueError\u001b[39;00m(\n\u001b[0;32m    512\u001b[0m         \u001b[38;5;124m\"\u001b[39m\u001b[38;5;124mEngine should not be specified when passing \u001b[39m\u001b[38;5;124m\"\u001b[39m\n\u001b[0;32m    513\u001b[0m         \u001b[38;5;124m\"\u001b[39m\u001b[38;5;124man ExcelFile - ExcelFile already has the engine set\u001b[39m\u001b[38;5;124m\"\u001b[39m\n\u001b[0;32m    514\u001b[0m     )\n",
      "File \u001b[1;32m~\\AppData\\Local\\anaconda3\\Lib\\site-packages\\pandas\\io\\excel\\_base.py:1563\u001b[0m, in \u001b[0;36mExcelFile.__init__\u001b[1;34m(self, path_or_buffer, engine, storage_options, engine_kwargs)\u001b[0m\n\u001b[0;32m   1561\u001b[0m     ext \u001b[38;5;241m=\u001b[39m \u001b[38;5;124m\"\u001b[39m\u001b[38;5;124mxls\u001b[39m\u001b[38;5;124m\"\u001b[39m\n\u001b[0;32m   1562\u001b[0m \u001b[38;5;28;01melse\u001b[39;00m:\n\u001b[1;32m-> 1563\u001b[0m     ext \u001b[38;5;241m=\u001b[39m inspect_excel_format(\n\u001b[0;32m   1564\u001b[0m         content_or_path\u001b[38;5;241m=\u001b[39mpath_or_buffer, storage_options\u001b[38;5;241m=\u001b[39mstorage_options\n\u001b[0;32m   1565\u001b[0m     )\n\u001b[0;32m   1566\u001b[0m     \u001b[38;5;28;01mif\u001b[39;00m ext \u001b[38;5;129;01mis\u001b[39;00m \u001b[38;5;28;01mNone\u001b[39;00m:\n\u001b[0;32m   1567\u001b[0m         \u001b[38;5;28;01mraise\u001b[39;00m \u001b[38;5;167;01mValueError\u001b[39;00m(\n\u001b[0;32m   1568\u001b[0m             \u001b[38;5;124m\"\u001b[39m\u001b[38;5;124mExcel file format cannot be determined, you must specify \u001b[39m\u001b[38;5;124m\"\u001b[39m\n\u001b[0;32m   1569\u001b[0m             \u001b[38;5;124m\"\u001b[39m\u001b[38;5;124man engine manually.\u001b[39m\u001b[38;5;124m\"\u001b[39m\n\u001b[0;32m   1570\u001b[0m         )\n",
      "File \u001b[1;32m~\\AppData\\Local\\anaconda3\\Lib\\site-packages\\pandas\\io\\excel\\_base.py:1419\u001b[0m, in \u001b[0;36minspect_excel_format\u001b[1;34m(content_or_path, storage_options)\u001b[0m\n\u001b[0;32m   1416\u001b[0m \u001b[38;5;28;01mif\u001b[39;00m \u001b[38;5;28misinstance\u001b[39m(content_or_path, \u001b[38;5;28mbytes\u001b[39m):\n\u001b[0;32m   1417\u001b[0m     content_or_path \u001b[38;5;241m=\u001b[39m BytesIO(content_or_path)\n\u001b[1;32m-> 1419\u001b[0m \u001b[38;5;28;01mwith\u001b[39;00m get_handle(\n\u001b[0;32m   1420\u001b[0m     content_or_path, \u001b[38;5;124m\"\u001b[39m\u001b[38;5;124mrb\u001b[39m\u001b[38;5;124m\"\u001b[39m, storage_options\u001b[38;5;241m=\u001b[39mstorage_options, is_text\u001b[38;5;241m=\u001b[39m\u001b[38;5;28;01mFalse\u001b[39;00m\n\u001b[0;32m   1421\u001b[0m ) \u001b[38;5;28;01mas\u001b[39;00m handle:\n\u001b[0;32m   1422\u001b[0m     stream \u001b[38;5;241m=\u001b[39m handle\u001b[38;5;241m.\u001b[39mhandle\n\u001b[0;32m   1423\u001b[0m     stream\u001b[38;5;241m.\u001b[39mseek(\u001b[38;5;241m0\u001b[39m)\n",
      "File \u001b[1;32m~\\AppData\\Local\\anaconda3\\Lib\\site-packages\\pandas\\io\\common.py:872\u001b[0m, in \u001b[0;36mget_handle\u001b[1;34m(path_or_buf, mode, encoding, compression, memory_map, is_text, errors, storage_options)\u001b[0m\n\u001b[0;32m    863\u001b[0m         handle \u001b[38;5;241m=\u001b[39m \u001b[38;5;28mopen\u001b[39m(\n\u001b[0;32m    864\u001b[0m             handle,\n\u001b[0;32m    865\u001b[0m             ioargs\u001b[38;5;241m.\u001b[39mmode,\n\u001b[1;32m   (...)\u001b[0m\n\u001b[0;32m    868\u001b[0m             newline\u001b[38;5;241m=\u001b[39m\u001b[38;5;124m\"\u001b[39m\u001b[38;5;124m\"\u001b[39m,\n\u001b[0;32m    869\u001b[0m         )\n\u001b[0;32m    870\u001b[0m     \u001b[38;5;28;01melse\u001b[39;00m:\n\u001b[0;32m    871\u001b[0m         \u001b[38;5;66;03m# Binary mode\u001b[39;00m\n\u001b[1;32m--> 872\u001b[0m         handle \u001b[38;5;241m=\u001b[39m \u001b[38;5;28mopen\u001b[39m(handle, ioargs\u001b[38;5;241m.\u001b[39mmode)\n\u001b[0;32m    873\u001b[0m     handles\u001b[38;5;241m.\u001b[39mappend(handle)\n\u001b[0;32m    875\u001b[0m \u001b[38;5;66;03m# Convert BytesIO or file objects passed with an encoding\u001b[39;00m\n",
      "\u001b[1;31mFileNotFoundError\u001b[0m: [Errno 2] No such file or directory: 'C:\\\\Users\\\\psuhaspu\\\\Downloads\\\\Registration Details.xlsx'"
     ]
    }
   ],
   "source": [
    "exceldata=pd.read_excel(r\"C:\\Users\\psuhaspu\\Downloads\\Registration Details.xlsx\")"
   ]
  },
  {
   "cell_type": "code",
   "execution_count": 303,
   "id": "3a469ed2-2bd6-49b8-8a10-88717be08db8",
   "metadata": {},
   "outputs": [],
   "source": [
    "import seaborn as sns\n",
    "import matplotlib.pyplot as plt"
   ]
  },
  {
   "cell_type": "code",
   "execution_count": 304,
   "id": "b7173529-c1f4-4760-a5a2-ef1f733a9a65",
   "metadata": {},
   "outputs": [],
   "source": [
    "data=sns.load_dataset(\"iris\")"
   ]
  },
  {
   "cell_type": "code",
   "execution_count": 305,
   "id": "3a3800cf-f13a-4eea-837b-c769486ae319",
   "metadata": {},
   "outputs": [
    {
     "name": "stderr",
     "output_type": "stream",
     "text": [
      "C:\\Users\\psuhaspu\\AppData\\Local\\anaconda3\\Lib\\site-packages\\seaborn\\_oldcore.py:1119: FutureWarning: use_inf_as_na option is deprecated and will be removed in a future version. Convert inf values to NaN before operating instead.\n",
      "  with pd.option_context('mode.use_inf_as_na', True):\n",
      "C:\\Users\\psuhaspu\\AppData\\Local\\anaconda3\\Lib\\site-packages\\seaborn\\_oldcore.py:1119: FutureWarning: use_inf_as_na option is deprecated and will be removed in a future version. Convert inf values to NaN before operating instead.\n",
      "  with pd.option_context('mode.use_inf_as_na', True):\n",
      "C:\\Users\\psuhaspu\\AppData\\Local\\anaconda3\\Lib\\site-packages\\seaborn\\_oldcore.py:1119: FutureWarning: use_inf_as_na option is deprecated and will be removed in a future version. Convert inf values to NaN before operating instead.\n",
      "  with pd.option_context('mode.use_inf_as_na', True):\n",
      "C:\\Users\\psuhaspu\\AppData\\Local\\anaconda3\\Lib\\site-packages\\seaborn\\_oldcore.py:1119: FutureWarning: use_inf_as_na option is deprecated and will be removed in a future version. Convert inf values to NaN before operating instead.\n",
      "  with pd.option_context('mode.use_inf_as_na', True):\n"
     ]
    },
    {
     "data": {
      "image/png": "[encoded data removed]",
      "text/plain": [
       "<Figure size 1117.75x1000 with 20 Axes>"
      ]
     },
     "metadata": {},
     "output_type": "display_data"
    }
   ],
   "source": [
    "sns.pairplot(data,hue=\"species\")\n",
    "plt.show()"
   ]
  },
  {
   "cell_type": "code",
   "execution_count": null,
   "id": "6b92f0bc-8e4b-4b2c-a5b2-e5689b654a22",
   "metadata": {},
   "outputs": [],
   "source": []
  }
 ],
 "metadata": {
  "kernelspec": {
   "display_name": "Python 3 (ipykernel)",
   "language": "python",
   "name": "python3"
  },
  "language_info": {
   "codemirror_mode": {
    "name": "ipython",
    "version": 3
   },
   "file_extension": ".py",
   "mimetype": "text/x-python",
   "name": "python",
   "nbconvert_exporter": "python",
   "pygments_lexer": "ipython3",
   "version": "3.11.7"
  }
 },
 "nbformat": 4,
 "nbformat_minor": 5
}
